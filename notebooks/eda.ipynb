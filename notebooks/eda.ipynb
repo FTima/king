{
 "cells": [
  {
   "cell_type": "markdown",
   "metadata": {},
   "source": [
    "# King Experiment Test Analysis"
   ]
  },
  {
   "cell_type": "code",
   "execution_count": null,
   "metadata": {},
   "outputs": [],
   "source": [
    "FIG_SIZE = (10, 5)"
   ]
  },
  {
   "cell_type": "code",
   "execution_count": null,
   "metadata": {},
   "outputs": [],
   "source": [
    "\n",
    "# from src.Config import Config\n",
    "import matplotlib.pyplot as plt\n",
    "import seaborn as sns\n",
    "\n",
    "\n",
    "\n",
    "\n",
    "def plot_daily_trend(column_name, daily_metrics, title):\n",
    "    plt.figure(figsize=FIG_SIZE)\n",
    "    ax = sns.lineplot(\n",
    "        daily_metrics, x=daily_metrics.index, y=column_name, hue=Config.VARIATION\n",
    "    )\n",
    "    plt.legend(title=\"Group\", title_fontsize=\"25\", fontsize=\"20\")\n",
    "    plt.xticks(fontsize=15, fontfamily=\"serif\")\n",
    "    plt.yticks(fontsize=15, fontfamily=\"serif\")\n",
    "    plt.xlabel(\"\")\n",
    "    plt.ylabel(\"\")\n",
    "\n",
    "    ax.axvline(\n",
    "        x=Config.EXPERIMENT_START_DATE,\n",
    "        ymin=0,\n",
    "        ymax=1,\n",
    "        linestyle=\"dashed\",\n",
    "        color=\"g\",\n",
    "    )\n",
    "    plt.text(\n",
    "        Config.EXPERIMENT_START_DATE,\n",
    "        daily_metrics[column_name].min(),\n",
    "        \"TREATMENT\",\n",
    "        rotation=90,\n",
    "    )\n",
    "    plt.xticks(rotation=30)\n",
    "    plt.title(title, fontsize=40)"
   ]
  },
  {
   "cell_type": "code",
   "execution_count": null,
   "metadata": {},
   "outputs": [],
   "source": [
    "def get_groups_daily_assignment(assignment_df):\n",
    "    group_assignment = (\n",
    "        assignment_df.groupby([\"assignment_date\", \"abtest_group\"])\n",
    "        .size()\n",
    "        .unstack(fill_value=0)\n",
    "    )\n",
    "    group_assignment[\"total\"] = group_assignment.sum(axis=1)\n",
    "\n",
    "    for group in group_assignment.columns[:-1]:\n",
    "        group_assignment[f\"ratio_{group}\"] = (\n",
    "            group_assignment[group] / group_assignment[\"total\"]\n",
    "        )\n",
    "    group_assignment.reset_index(inplace=True)\n",
    "    group_assignment.columns = [\n",
    "        \"assignment_date\",\n",
    "        \"group_A_assignment\",\n",
    "        \"group_B_assignment\",\n",
    "        \"population_size\",\n",
    "        \"ratio_A\",\n",
    "        \"ratio_B\",\n",
    "    ]\n",
    "    group_assignment[\"group_A_size\"] = group_assignment[\"group_A_assignment\"].cumsum()\n",
    "    group_assignment[\"group_B_size\"] = group_assignment[\"group_B_assignment\"].cumsum()\n",
    "    return group_assignment"
   ]
  },
  {
   "cell_type": "code",
   "execution_count": null,
   "metadata": {},
   "outputs": [],
   "source": [
    "import matplotlib.pyplot as plt\n",
    "import numpy as np\n",
    "\n",
    "\n",
    "\n",
    "\n",
    "\n",
    "def plot_stats(aggregated_data, stats, title):\n",
    "    metrics = list(aggregated_data.columns)\n",
    "    A_avg = aggregated_data.loc[\"A\"].values\n",
    "    B_avg = aggregated_data.loc[\"B\"].values\n",
    "\n",
    "    p_values_list = [stats[metric] for metric in metrics]\n",
    "\n",
    "    fig, ax = plt.subplots(figsize=(10, 6))\n",
    "    bar_height = 0.35\n",
    "    y = np.arange(len(metrics))\n",
    "    bars_A = ax.barh(y - bar_height / 2, A_avg, bar_height, label=\"Group A\")\n",
    "    bars_B = ax.barh(y + bar_height / 2, B_avg, bar_height, label=\"Group B\")\n",
    "\n",
    "    ax.set_xlabel(\"Average Value\")\n",
    "    ax.set_ylabel(\"Metrics\")\n",
    "    ax.set_title(f\"Average Metrics Comparison _ {title}\")\n",
    "    ax.set_yticks(y)\n",
    "    ax.set_yticklabels(metrics)\n",
    "    ax.invert_yaxis()\n",
    "    ax.legend()\n",
    "\n",
    "    for i, (bar_A, bar_B) in enumerate(zip(bars_A, bars_B)):\n",
    "        ax.text(\n",
    "            bar_A.get_width() + 0.5,\n",
    "            bar_A.get_y() + bar_A.get_height() / 2,\n",
    "            f\"p={p_values_list[i]:.3f}\",\n",
    "            va=\"center\",\n",
    "            ha=\"left\",\n",
    "            fontsize=10,\n",
    "        )\n",
    "        ax.text(\n",
    "            bar_B.get_width() + 0.5,\n",
    "            bar_B.get_y() + bar_B.get_height() / 2,\n",
    "            f\"p={p_values_list[i]:.3f}\",\n",
    "            va=\"center\",\n",
    "            ha=\"left\",\n",
    "            fontsize=10,\n",
    "        )\n",
    "\n",
    "    plt.tight_layout()\n",
    "    plt.show()"
   ]
  },
  {
   "cell_type": "markdown",
   "metadata": {},
   "source": [
    "## Load Data"
   ]
  },
  {
   "cell_type": "code",
   "execution_count": null,
   "metadata": {},
   "outputs": [],
   "source": [
    "from google.cloud import bigquery\n",
    "from src.Config import Config\n",
    "from src.data.big_query_loader import BigQueryLoader\n",
    "\n",
    "assignment_activity = BigQueryLoader.load_data(\n",
    "    query_file=\"assignment_activity.sql\", parquet_file=\"assignment_activity\"\n",
    ")\n",
    "historical_activity = BigQueryLoader.load_data(\n",
    "    query_file=\"historical_activity.sql\", parquet_file=\"historical_activity\"\n",
    ")\n",
    "\n",
    "parameters = {\"study_start_date\": (\"STRING\", Config.STUDY_START_DATE)}\n",
    "daily_metrics = BigQueryLoader.load_data(\n",
    "    query_file=\"daily_metrics.sql\", query_parameters_map=parameters\n",
    ")"
   ]
  },
  {
   "cell_type": "markdown",
   "metadata": {},
   "source": [
    "## Experiment Population Analysis"
   ]
  },
  {
   "cell_type": "code",
   "execution_count": null,
   "metadata": {},
   "outputs": [],
   "source": [
    "variation_size = assignment_activity.groupby(\"abtest_group\")[\"assignment_date\"].count()\n",
    "group_A_size = int(variation_size[\"A\"])\n",
    "group_B_size = int(variation_size[\"B\"])\n",
    "total_exp_population = assignment_activity.shape[0]\n",
    "group_B_ratio = group_B_size / total_exp_population\n",
    "group_A_ratio = group_A_size / total_exp_population\n",
    "\n",
    "print(group_A_size, group_B_size, total_exp_population)\n",
    "print(f\"GROUP B RATIO: {group_B_ratio}\", f\"GROUP A RATIO: {group_A_ratio}\")"
   ]
  },
  {
   "cell_type": "code",
   "execution_count": null,
   "metadata": {},
   "outputs": [],
   "source": [
    "group_assignment = get_groups_daily_assignment(assignment_activity)"
   ]
  },
  {
   "cell_type": "code",
   "execution_count": null,
   "metadata": {},
   "outputs": [],
   "source": [
    "import matplotlib.pyplot as plt\n",
    "\n",
    "fig, ax = plt.subplots()\n",
    "plott = ax.pie(\n",
    "    [group_A_size, group_B_size],\n",
    "    labels=[\"Control(A)\", \"Variation(B)\"],\n",
    "    autopct=\"%1.1f%%\",\n",
    "    # colors=[\"saddlebrown\", \"gray\"],\n",
    "    pctdistance=1.2,\n",
    "    labeldistance=0.3,\n",
    "    # radius=0.5\n",
    ")"
   ]
  },
  {
   "cell_type": "code",
   "execution_count": null,
   "metadata": {},
   "outputs": [],
   "source": [
    "plt.figure(figsize=FIG_SIZE)\n",
    "ax = sns.lineplot(group_assignment.set_index(\"assignment_date\")[[\"ratio_A\", \"ratio_B\"]])\n",
    "a = plt.xticks(rotation=30)\n",
    "plt.show()\n",
    "\n",
    "plt.figure(figsize=FIG_SIZE)\n",
    "ax = sns.lineplot(\n",
    "    group_assignment.set_index(\"assignment_date\")[[\"group_A_size\", \"group_B_size\"]]\n",
    ")\n",
    "a = plt.xticks(rotation=30)\n",
    "plt.show()"
   ]
  },
  {
   "cell_type": "markdown",
   "metadata": {},
   "source": [
    "## Experimetn Daily Analysis"
   ]
  },
  {
   "cell_type": "code",
   "execution_count": null,
   "metadata": {},
   "outputs": [],
   "source": [
    "import pandas as pd\n",
    "\n",
    "daily_metrics = pd.merge(\n",
    "    daily_metrics,\n",
    "    group_assignment[[\"assignment_date\", \"group_B_size\", \"group_A_size\"]],\n",
    "    left_on=\"activity_date\",\n",
    "    right_on=\"assignment_date\",\n",
    "    how=\"left\",\n",
    ")\n",
    "daily_metrics[\"group_A_size\"] = daily_metrics[\"group_A_size\"].fillna(0)\n",
    "daily_metrics[\"group_B_size\"] = daily_metrics[\"group_B_size\"].fillna(0)\n",
    "\n",
    "treatment_daily_metrics = daily_metrics[\n",
    "    daily_metrics[\"activity_date\"] >= Config.EXPERIMENT_START_DATE\n",
    "]\n",
    "treatment_daily_metrics.set_index(\"activity_date\", inplace=True)\n",
    "daily_metrics.set_index(\"activity_date\", inplace=True)"
   ]
  },
  {
   "cell_type": "markdown",
   "metadata": {},
   "source": [
    "### Active Player"
   ]
  },
  {
   "cell_type": "code",
   "execution_count": null,
   "metadata": {},
   "outputs": [],
   "source": [
    "treatment_daily_metrics[\"daily_active_player_percentage\"] = (\n",
    "    treatment_daily_metrics.apply(\n",
    "        lambda row: (\n",
    "            row.daily_active_player / row.group_B_size\n",
    "            if row.abtest_group == \"B\"\n",
    "            else row.daily_active_player / row.group_A_size\n",
    "        ),\n",
    "        axis=1,\n",
    "    )\n",
    ")\n",
    "\n",
    "plot_daily_trend(\n",
    "    \"daily_active_player_percentage\",\n",
    "    treatment_daily_metrics,    \n",
    "    title=\"Daily Active Player Percentage\",\n",
    ")\n",
    "plt.show()"
   ]
  },
  {
   "cell_type": "markdown",
   "metadata": {},
   "source": [
    "### Conversion Rate"
   ]
  },
  {
   "cell_type": "code",
   "execution_count": null,
   "metadata": {},
   "outputs": [],
   "source": [
    "treatment_daily_metrics[\"total_conversion_rate\"] = treatment_daily_metrics.apply(\n",
    "    lambda row: (\n",
    "        row.total_num_purhcases / row.group_B_size\n",
    "        if row.abtest_group == \"B\"\n",
    "        else row.total_num_purhcases / row.group_A_size\n",
    "    ),\n",
    "    axis=1,\n",
    ")\n",
    "treatment_daily_metrics[\"active_player_conversion_rate\"] = (\n",
    "    treatment_daily_metrics.total_num_purhcases\n",
    "    / treatment_daily_metrics.daily_active_player\n",
    ")\n",
    "\n",
    "plot_daily_trend(\n",
    "    \"total_conversion_rate\", treatment_daily_metrics, title=\"Total Conversion Rate\"\n",
    ")\n",
    "plt.show()\n",
    "\n",
    "plot_daily_trend(\n",
    "    \"active_player_conversion_rate\",\n",
    "    treatment_daily_metrics,\n",
    "    title=\"Active Player Conversion Rate\",\n",
    ")\n",
    "plt.show()"
   ]
  },
  {
   "cell_type": "markdown",
   "metadata": {},
   "source": [
    "### Revenue"
   ]
  },
  {
   "cell_type": "code",
   "execution_count": null,
   "metadata": {},
   "outputs": [],
   "source": [
    "\n",
    "\n",
    "\n",
    "    plot_daily_trend(\n",
    "        \"total_sum_purchase_per_player\",\n",
    "        treatment_daily_metrics,\n",
    "        title=\"Total Sum of Purchases per Player\",\n",
    "    )\n",
    "    plt.show()\n",
    "\n",
    "    plot_daily_trend(\n",
    "        \"total_sum_purchase_per_active_player\",\n",
    "        treatment_daily_metrics,\n",
    "        title=\"Total Sum of Purchases per Active Player\",\n",
    "    )\n",
    "    plt.show()\n",
    "\n",
    "    plot_daily_trend(\n",
    "        \"average_purchase_size\", treatment_daily_metrics, title=\"Average Purchase Size\"\n",
    "    )\n",
    "    plt.show()"
   ]
  },
  {
   "cell_type": "markdown",
   "metadata": {},
   "source": [
    "### Game Rounds"
   ]
  },
  {
   "cell_type": "code",
   "execution_count": null,
   "metadata": {},
   "outputs": [],
   "source": [
    "treatment_daily_metrics[\"total_game_rounds_per_player\"] = treatment_daily_metrics.apply(\n",
    "    lambda row: (\n",
    "        row.total_game_rounds / row.group_B_size\n",
    "        if row.abtest_group == \"B\"\n",
    "        else row.total_game_rounds / row.group_A_size\n",
    "    ),\n",
    "    axis=1,\n",
    ")\n",
    "\n",
    "daily_metrics[\"game_rounds_per_active_player\"] = (\n",
    "    daily_metrics.total_game_rounds / daily_metrics.daily_active_player\n",
    ")\n",
    "daily_metrics[\"motivated_players_ratio\"] = (\n",
    "    daily_metrics.total_motivated_players / daily_metrics.daily_active_player\n",
    ")\n",
    "\n",
    "\n",
    "plot_daily_trend(\n",
    "    \"total_game_rounds_per_player\",\n",
    "    treatment_daily_metrics,\n",
    "    title=\"Total Game Rounds per Player\",\n",
    ")\n",
    "plt.show()\n",
    "\n",
    "\n",
    "plot_daily_trend(\n",
    "    \"game_rounds_per_active_player\",\n",
    "    daily_metrics,\n",
    "    title=\"Game Rounds per Active Player\",\n",
    ")\n",
    "plt.show()\n",
    "\n",
    "plot_daily_trend(\n",
    "    \"motivated_players_ratio\", daily_metrics, title=\"Motivated Players ratio\"\n",
    ")\n",
    "plt.show()"
   ]
  },
  {
   "cell_type": "markdown",
   "metadata": {},
   "source": [
    "## Statistical Analysis"
   ]
  },
  {
   "cell_type": "markdown",
   "metadata": {},
   "source": [
    "### Feature Extraction"
   ]
  },
  {
   "cell_type": "code",
   "execution_count": null,
   "metadata": {},
   "outputs": [],
   "source": [
    "import pandas as pd\n",
    "from datetime import datetime\n",
    "\n",
    "assignment_activity[\"assignment_date\"] = pd.to_datetime(\n",
    "    assignment_activity.assignment_date\n",
    ")\n",
    "assignment_activity[\"install_date\"] = pd.to_datetime(assignment_activity.install_date)\n",
    "assignment_activity[\"age_in_app\"] = (\n",
    "    assignment_activity[\"assignment_date\"] - assignment_activity[\"install_date\"]\n",
    ").dt.days\n",
    "\n",
    "assignment_activity[\"conversion_date\"] = pd.to_datetime(\n",
    "    assignment_activity.conversion_date\n",
    ")\n",
    "assignment_activity[\"age_convert\"] = (\n",
    "    assignment_activity[\"conversion_date\"] - assignment_activity[\"install_date\"]\n",
    ").dt.days\n",
    "assignment_activity.set_index(\"playerid\", inplace=True)\n",
    "\n",
    "last_experiment_date = datetime.strptime(\"22-05-2017\", \"%d-%m-%Y\")\n",
    "\n",
    "assignment_activity[\"test_duration\"] = assignment_activity.apply(\n",
    "    lambda row: (last_experiment_date - row.assignment_date).days + 1, axis=1\n",
    ")\n",
    "assignment_activity[\"activity_count_per_day\"] = (\n",
    "    assignment_activity[\"activity_count\"] / assignment_activity[\"test_duration\"]\n",
    ")\n",
    "\n",
    "assignment_activity[\"converted_per_experiment_day\"] = (\n",
    "    assignment_activity[\"converted_days_count\"] / assignment_activity[\"test_duration\"]\n",
    ")\n",
    "\n",
    "assignment_activity[\"converted_per_active_day\"] = (\n",
    "    assignment_activity[\"converted_days_count\"] / assignment_activity[\"activity_count\"]\n",
    ")\n",
    "\n",
    "assignment_activity[\"purchase_per_experiment_day\"] = (\n",
    "    assignment_activity[\"purchase_sum\"] / assignment_activity[\"test_duration\"]\n",
    ")\n",
    "\n",
    "assignment_activity[\"purchase_per_active_day\"] = (\n",
    "    assignment_activity[\"purchase_sum\"] / assignment_activity[\"activity_count\"]\n",
    ")\n",
    "assignment_activity[\"gameends_per_experiment_day\"] = (\n",
    "    assignment_activity[\"gameends_sum\"] / assignment_activity[\"test_duration\"]\n",
    ")\n",
    "\n",
    "assignment_activity[\"motivation_per_experiment_day\"] = (\n",
    "    assignment_activity[\"motivated_days_count\"] / assignment_activity[\"test_duration\"]\n",
    ")\n",
    "\n",
    "assignment_activity[\"motivation_per_active_day\"] = (\n",
    "    assignment_activity[\"motivated_days_count\"] / assignment_activity[\"activity_count\"]\n",
    ")"
   ]
  },
  {
   "cell_type": "code",
   "execution_count": null,
   "metadata": {},
   "outputs": [],
   "source": [
    "aggregated, stat_result = calc_stats(assignment_activity)"
   ]
  },
  {
   "cell_type": "code",
   "execution_count": null,
   "metadata": {},
   "outputs": [],
   "source": [
    "plot_stats(aggregated, stat_result, \"All Players\")"
   ]
  },
  {
   "cell_type": "code",
   "execution_count": null,
   "metadata": {},
   "outputs": [],
   "source": [
    "import seaborn as sns\n",
    "import matplotlib.pyplot as plt\n",
    "\n",
    "\n",
    "# for i, col in enumerate(\n",
    "#     assignment_activity.select_dtypes([\"int64\", \"float64\"]).columns\n",
    "# ):\n",
    "#     plt.figure(figsize=(16, 10))\n",
    "#     # plt.subplot(3, 3, i + 1)\n",
    "#     sns.violinplot(data=assignment_activity, x=col, hue=Config.VARIATION)\n",
    "#     plt.legend(title='Group', title_fontsize='25', fontsize='20')\n",
    "#     plt.xticks(fontsize=15, fontfamily='serif')\n",
    "#     plt.yticks(fontsize=15, fontfamily='serif')\n",
    "#     plt.xlabel('')\n",
    "#     plt.ylabel('')\n",
    "\n",
    "#     plt.title(col, fontsize=40)\n",
    "#     plt.tight_layout()\n",
    "\n",
    "#     plt.show()"
   ]
  },
  {
   "cell_type": "markdown",
   "metadata": {},
   "source": [
    "### Validation Analysis"
   ]
  },
  {
   "cell_type": "markdown",
   "metadata": {},
   "source": [
    "#### No Customer common between variations"
   ]
  },
  {
   "cell_type": "code",
   "execution_count": null,
   "metadata": {},
   "outputs": [],
   "source": [
    "# assignment_activity.groupby('playerid').filter(lambda g: len(g)>1)"
   ]
  },
  {
   "cell_type": "markdown",
   "metadata": {},
   "source": [
    "#### Player in App Age"
   ]
  },
  {
   "cell_type": "code",
   "execution_count": null,
   "metadata": {},
   "outputs": [],
   "source": [
    "result = perform_test(assignment_activity, Config.VARIATION, \"age_in_app\", \"ttest\")\n",
    "print(f\"P-Value : {float(result.pvalue)}\")\n",
    "assignment_activity.groupby(\"abtest_group\")[\"age_in_app\"].mean()"
   ]
  },
  {
   "cell_type": "markdown",
   "metadata": {},
   "source": [
    "#### Player Conversion State"
   ]
  },
  {
   "cell_type": "code",
   "execution_count": null,
   "metadata": {},
   "outputs": [],
   "source": [
    "conversion_data = assignment_activity[[\"age_convert\", \"age_in_app\", \"abtest_group\"]]\n",
    "\n",
    "conversion_data.groupby(\"abtest_group\")[\"age_convert\"].apply(\n",
    "    lambda x: x.isnull().sum() / len(x)\n",
    ")\n"
   ]
  },
  {
   "cell_type": "markdown",
   "metadata": {},
   "source": [
    "##### Non Converted"
   ]
  },
  {
   "cell_type": "code",
   "execution_count": null,
   "metadata": {},
   "outputs": [],
   "source": [
    "from scipy.stats import chi2_contingency\n",
    "\n",
    "contingency_table = pd.crosstab(\n",
    "    conversion_data[\"abtest_group\"], conversion_data[\"age_convert\"].isnull()\n",
    ")\n",
    "chi2, p, dof, expected = chi2_contingency(contingency_table)\n",
    "print(\"Chi-square statistic:\", chi2)\n",
    "print(\"p-value:\", p)\n",
    "print(\"Degrees of freedom:\", dof)\n",
    "print(\"Expected frequencies:\", expected)"
   ]
  },
  {
   "cell_type": "markdown",
   "metadata": {},
   "source": [
    "##### Before Treatment Converted"
   ]
  },
  {
   "cell_type": "code",
   "execution_count": null,
   "metadata": {},
   "outputs": [],
   "source": [
    "conversion_data[\"before_assignment_conversion\"] = (\n",
    "    conversion_data[\"age_convert\"] < conversion_data[\"age_in_app\"]\n",
    ") & (conversion_data[\"age_convert\"].isnull() == False)\n",
    "\n",
    "\n",
    "contingency_table = pd.crosstab(\n",
    "    conversion_data[\"abtest_group\"], conversion_data[\"before_assignment_conversion\"]\n",
    ")\n",
    "chi2, p, dof, expected = chi2_contingency(contingency_table)\n",
    "print(\"Chi-square statistic:\", chi2)\n",
    "print(\"p-value:\", p)\n",
    "print(\"Degrees of freedom:\", dof)\n",
    "print(\"Expected frequencies:\", expected)"
   ]
  },
  {
   "cell_type": "markdown",
   "metadata": {},
   "source": [
    "##### After Treatment Converted"
   ]
  },
  {
   "cell_type": "code",
   "execution_count": null,
   "metadata": {},
   "outputs": [],
   "source": [
    "conversion_data[\"after_assignment_conversion\"] = (\n",
    "    conversion_data[\"age_convert\"] >= conversion_data[\"age_in_app\"]\n",
    ") & (conversion_data[\"age_convert\"].isnull() == False)\n",
    "\n",
    "contingency_table = pd.crosstab(\n",
    "    conversion_data[\"abtest_group\"], conversion_data[\"after_assignment_conversion\"]\n",
    ")\n",
    "chi2, p, dof, expected = chi2_contingency(contingency_table)\n",
    "print(\"Chi-square statistic:\", chi2)\n",
    "print(\"p-value:\", p)\n",
    "print(\"Degrees of freedom:\", dof)\n",
    "print(\"Expected frequencies:\", expected)"
   ]
  },
  {
   "cell_type": "markdown",
   "metadata": {},
   "source": [
    "####  Players Profitability"
   ]
  },
  {
   "cell_type": "code",
   "execution_count": null,
   "metadata": {},
   "outputs": [],
   "source": [
    "historical_activity['purchase_avg']= historical_activity['hist_purchase_avg'].fillna(0)\n",
    "\n",
    "result = perform_test(historical_activity, \"hist_abtest_group\", \"purchase_avg\", \"ttest\")\n",
    "print(f\"P-Value : {float(result.pvalue)}\")\n",
    "assignment_activity.groupby(\"abtest_group\")[\"age_in_app\"].mean()"
   ]
  },
  {
   "cell_type": "markdown",
   "metadata": {},
   "source": [
    "## Segment Analysis"
   ]
  },
  {
   "cell_type": "markdown",
   "metadata": {},
   "source": [
    "### High Engaged Players"
   ]
  },
  {
   "cell_type": "code",
   "execution_count": null,
   "metadata": {},
   "outputs": [],
   "source": [
    "assignment_activity.gameends_avg.mean()\n",
    "high_engaged_players = assignment_activity[\n",
    "    (assignment_activity[\"gameends_avg\"] > 100)\n",
    "]\n",
    "print(high_engaged_players.age_convert.mean())\n",
    "high_engaged_players_aggregated, high_engaged_players_stat_result = calc_stats(high_engaged_players)"
   ]
  },
  {
   "cell_type": "code",
   "execution_count": null,
   "metadata": {},
   "outputs": [],
   "source": [
    "high_engaged_players_aggregated"
   ]
  },
  {
   "cell_type": "markdown",
   "metadata": {},
   "source": [
    "### Old Converted Players"
   ]
  },
  {
   "cell_type": "code",
   "execution_count": null,
   "metadata": {},
   "outputs": [],
   "source": [
    "old_converted_players = assignment_activity[\n",
    "    (assignment_activity[\"age_in_app\"] > 10)\n",
    "    & (assignment_activity[\"age_in_app\"] > assignment_activity[\"age_convert\"])\n",
    "    & (assignment_activity[\"age_convert\"].isnull() == False)\n",
    "]\n",
    "\n",
    "old_converted_aggregated, old_converted_stat_result = calc_stats(old_converted_players)"
   ]
  },
  {
   "cell_type": "markdown",
   "metadata": {},
   "source": [
    "### New Players"
   ]
  },
  {
   "cell_type": "code",
   "execution_count": null,
   "metadata": {},
   "outputs": [],
   "source": [
    "new_players = assignment_activity[\n",
    "    (assignment_activity[\"age_in_app\"] < 2)]\n",
    "new_aggregated, new_stat_result = calc_stats(new_players)"
   ]
  },
  {
   "cell_type": "markdown",
   "metadata": {},
   "source": [
    "### New Converted Players"
   ]
  },
  {
   "cell_type": "code",
   "execution_count": null,
   "metadata": {},
   "outputs": [],
   "source": [
    "new_converted_players = assignment_activity[\n",
    "    (assignment_activity[\"age_in_app\"] < 2)\n",
    "    & (assignment_activity[\"age_in_app\"] < assignment_activity[\"age_convert\"])\n",
    "    & (assignment_activity[\"age_convert\"].isnull() == False)\n",
    "]\n",
    "new_converted_aggregated, new_converted_stat_result = calc_stats(new_converted_players)"
   ]
  },
  {
   "cell_type": "markdown",
   "metadata": {},
   "source": [
    "### Non Converted Players"
   ]
  },
  {
   "cell_type": "code",
   "execution_count": null,
   "metadata": {},
   "outputs": [],
   "source": [
    "non_converted_players = assignment_activity[assignment_activity[\"age_convert\"].isnull()]\n",
    "\n",
    "non_converted_aggregated, non_converted_stat_result = calc_stats(non_converted_players)"
   ]
  },
  {
   "cell_type": "markdown",
   "metadata": {},
   "source": [
    "### Active Players"
   ]
  },
  {
   "cell_type": "code",
   "execution_count": null,
   "metadata": {},
   "outputs": [],
   "source": [
    "active_players = assignment_activity[\n",
    "    assignment_activity.index.isin(\n",
    "        historical_activity[historical_activity.hist_activity_count > 10].index\n",
    "    )\n",
    "]\n",
    "active_aggregated, active_stat_result = calc_stats(active_players)"
   ]
  },
  {
   "cell_type": "markdown",
   "metadata": {},
   "source": [
    "### Profitable Players"
   ]
  },
  {
   "cell_type": "code",
   "execution_count": null,
   "metadata": {},
   "outputs": [],
   "source": [
    "profitable_players = assignment_activity[\n",
    "    assignment_activity.index.isin(\n",
    "        historical_activity[historical_activity.purchase_avg > 0].index\n",
    "    )\n",
    "]\n",
    "profitable_aggregated, profitable_stat_result = calc_stats(profitable_players)"
   ]
  },
  {
   "cell_type": "markdown",
   "metadata": {},
   "source": [
    "### All Plots"
   ]
  },
  {
   "cell_type": "code",
   "execution_count": null,
   "metadata": {},
   "outputs": [],
   "source": [
    "plot_stats(high_engaged_players_aggregated, high_engaged_players_stat_result, 'High Engaged')"
   ]
  },
  {
   "cell_type": "code",
   "execution_count": null,
   "metadata": {},
   "outputs": [],
   "source": [
    "plot_stats(profitable_aggregated, profitable_stat_result, \"Profitable Players\")"
   ]
  },
  {
   "cell_type": "code",
   "execution_count": null,
   "metadata": {},
   "outputs": [],
   "source": [
    "plot_stats(active_aggregated, active_stat_result, \"Active Players\")"
   ]
  },
  {
   "cell_type": "code",
   "execution_count": null,
   "metadata": {},
   "outputs": [],
   "source": [
    "plot_stats(old_converted_aggregated, old_converted_stat_result, \"Old Converted Players\")"
   ]
  },
  {
   "cell_type": "code",
   "execution_count": null,
   "metadata": {},
   "outputs": [],
   "source": [
    "plot_stats(new_aggregated, new_stat_result, \"New Players\")"
   ]
  },
  {
   "cell_type": "code",
   "execution_count": null,
   "metadata": {},
   "outputs": [],
   "source": [
    "plot_stats(new_converted_aggregated, new_converted_stat_result, \"New Converted Players\")"
   ]
  },
  {
   "cell_type": "code",
   "execution_count": null,
   "metadata": {},
   "outputs": [],
   "source": [
    "plot_stats(non_converted_aggregated, non_converted_stat_result, \"None Converted\")"
   ]
  },
  {
   "cell_type": "markdown",
   "metadata": {},
   "source": [
    "## END of File"
   ]
  },
  {
   "cell_type": "markdown",
   "metadata": {},
   "source": [
    "Metrics:\n",
    "\n",
    "1. DAU and MAU: The daily- and monthly active users ratio measures the percentage of monthly active users who engage with the game on a daily basis, providing insights into the game’s stickiness and popularity over time. A high DAU/MAU ratio indicates strong user retention and frequent engagement, while a low ratio may signal potential churn or disinterest among users.\n",
    "\n",
    "2. Retention: Retention tracks the number of players who continue to engage with the game over time, typically measured at various intervals such as day 1, day 7, and day 30. High retention rates mean players find your game compelling and will likely return. On the other hand, low retention rates suggest issues with gameplay, onboarding, or overall user experience.\n",
    "\n",
    "3. Churn rate: Churn rate is when players stop engaging with the game over a specific period, indicating the number of players who churn or disengage. A high churn rate suggests issues with player retention and overall game satisfaction, while a low churn rate indicates strong player loyalty and satisfaction.\n",
    "\n",
    "4. Session count: Session count tracks the number of gaming sessions initiated by players within a defined timeframe, providing insights into player engagement frequency and habits. Higher session counts indicate strong player engagement and interest in the game, while lower session counts may signal waning interest or competing priorities. Understanding session count trends can help developers identify opportunities to enhance return visits, introduce new content, or enhance social features to keep players returning for more.\n",
    "\n",
    "5. Player count: Player count refers to the total number of players engaging with the game within a specified timeframe, providing insights into overall player interest and adoption.\n",
    "\n",
    "6. New users: New users represent players who have recently installed or started playing the game for the first time within a defined timeframe. Monitoring new user acquisition rates gives you insights into the game’s appeal to new audiences, the effectiveness of your marketing efforts, and overall user acquisition trends.\n",
    "\n",
    "7. Conversion rate: Conversion rate measures the percentage of players who take a desired action, such as making in-game purchases, subscribing to a premium service, or completing a specific level or task. A high conversion rate indicates effective monetization strategies and a players’ willingness to engage in these revenue-generating activities.\n",
    "\n",
    "8. ARPU (Average Revenue Per User): ARPU calculates the average revenue generated per user, providing insights into the overall monetization effectiveness of a game. By dividing total revenue by the total number of active users within a specified period, you can calculate the average value of each player and identify opportunities to increase revenue through targeted monetization efforts.\n",
    "\n",
    "10. LTV (Lifetime Value): LTV estimates the total revenue generated by a player over their entire engagement with the game, including initial and recurring purchases. By forecasting the long-term value of players, you can prioritize user acquisition efforts, optimize retention strategies, and calculate the return on investment for marketing campaigns and user acquisition initiatives.\n",
    "\n",
    "11. IAP revenue (In-App Purchase Revenue): IAP revenue represents the total revenue generated from in-game purchases, including consumable items, virtual currency, expansion packs, and other digital goods.\n",
    "\n",
    "12. ILRD (IAP Lifetime Revenue per Download): ILRD measures the lifetime revenue generated per download from in-app purchases, indicating the revenue potential of each acquired user. These metrics allows you to understand the average revenue generated per user acquisition and evaluate the effectiveness of monetization strategies in converting downloads into revenue.\n",
    "\n"
   ]
  },
  {
   "cell_type": "markdown",
   "metadata": {},
   "source": [
    "Metrics:\n",
    "\n",
    "\n",
    "2. Retention: Retention tracks the number of players who continue to engage with the game over time, typically measured at various intervals such as day 1, day 7, and day 30. High retention rates mean players find your game compelling and will likely return. On the other hand, low retention rates suggest issues with gameplay, onboarding, or overall user experience.\n",
    "\n",
    "3. Churn rate: Churn rate is when players stop engaging with the game over a specific period, indicating the number of players who churn or disengage. A high churn rate suggests issues with player retention and overall game satisfaction, while a low churn rate indicates strong player loyalty and satisfaction.\n",
    "\n",
    "6. New users: New users represent players who have recently installed or started playing the game for the first time within a defined timeframe. Monitoring new user acquisition rates gives you insights into the game’s appeal to new audiences, the effectiveness of your marketing efforts, and overall user acquisition trends.\n",
    "\n",
    "10. LTV (Lifetime Value): LTV estimates the total revenue generated by a player over their entire engagement with the game, including initial and recurring purchases. By forecasting the long-term value of players, you can prioritize user acquisition efforts, optimize retention strategies, and calculate the return on investment for marketing campaigns and user acquisition initiatives.\n",
    "\n",
    "11. IAP revenue (In-App Purchase Revenue): IAP revenue represents the total revenue generated from in-game purchases, including consumable items, virtual currency, expansion packs, and other digital goods.\n",
    "\n",
    "12. ILRD (IAP Lifetime Revenue per Download): ILRD measures the lifetime revenue generated per download from in-app purchases, indicating the revenue potential of each acquired user. These metrics allows you to understand the average revenue generated per user acquisition and evaluate the effectiveness of monetization strategies in converting downloads into revenue.\n",
    "\n",
    "\n",
    "1. active users: The number of unique users active (at least once) in the experiment window and pre experiment window.\n",
    "2. first-month activation rate: The proportion of new registrants from the last 28 days who have been active at least once.\n",
    "3. month-to-month retention rate: The proportion of active users in the last 28 days among those who were active in the preceding 28-day period (i.e., between 55 and 28 days ago).\n",
    "4. month-to-month reactivation rate: The proportion of active users in the last 28 days among those who were not active in the preceding 28-day period.\n",
    "\n",
    "\n"
   ]
  },
  {
   "cell_type": "code",
   "execution_count": null,
   "metadata": {},
   "outputs": [],
   "source": []
  },
  {
   "cell_type": "code",
   "execution_count": null,
   "metadata": {},
   "outputs": [],
   "source": []
  },
  {
   "cell_type": "code",
   "execution_count": null,
   "metadata": {},
   "outputs": [],
   "source": [
    "after_assignment_conversion = (\n",
    "    conversion_data[\n",
    "        assignment_activity[\"age_convert\"] >= assignment_activity[\"age_in_app\"]\n",
    "    ]\n",
    "    .groupby(\"abtest_group\")[\"age_convert\"]\n",
    "    .count()\n",
    "    .reset_index()\n",
    ")\n",
    "after_assignment_conversion[\"total\"] = after_assignment_conversion[\"age_convert\"].sum()\n",
    "after_assignment_conversion[\"ratio\"] = (\n",
    "    after_assignment_conversion[\"age_convert\"] / after_assignment_conversion[\"total\"]\n",
    ")\n",
    "after_assignment_conversion"
   ]
  },
  {
   "cell_type": "code",
   "execution_count": null,
   "metadata": {},
   "outputs": [],
   "source": [
    "before_assignment_conversion = (\n",
    "    conversion_data[\n",
    "        assignment_activity[\"age_convert\"] < assignment_activity[\"age_in_app\"]\n",
    "    ]\n",
    "    .groupby(\"abtest_group\")[\"age_convert\"]\n",
    "    .count()\n",
    "    .reset_index()\n",
    ")\n",
    "before_assignment_conversion[\"total\"] = before_assignment_conversion[\n",
    "    \"age_convert\"\n",
    "].sum()\n",
    "before_assignment_conversion[\"ratio\"] = (\n",
    "    before_assignment_conversion[\"age_convert\"] / before_assignment_conversion[\"total\"]\n",
    ")\n",
    "before_assignment_conversion"
   ]
  },
  {
   "cell_type": "code",
   "execution_count": null,
   "metadata": {},
   "outputs": [],
   "source": []
  },
  {
   "cell_type": "code",
   "execution_count": null,
   "metadata": {},
   "outputs": [],
   "source": [
    "historical_activity"
   ]
  }
 ],
 "metadata": {
  "kernelspec": {
   "display_name": ".venv",
   "language": "python",
   "name": "python3"
  },
  "language_info": {
   "codemirror_mode": {
    "name": "ipython",
    "version": 3
   },
   "file_extension": ".py",
   "mimetype": "text/x-python",
   "name": "python",
   "nbconvert_exporter": "python",
   "pygments_lexer": "ipython3",
   "version": "3.11.7"
  }
 },
 "nbformat": 4,
 "nbformat_minor": 2
}
